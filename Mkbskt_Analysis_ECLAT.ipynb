{
  "nbformat": 4,
  "nbformat_minor": 0,
  "metadata": {
    "colab": {
      "name": "Mkbskt Analysis_ECLAT.ipynb",
      "provenance": [],
      "collapsed_sections": [],
      "mount_file_id": "1HlAEWfGz_OqVt2M4uXuH34sEewFmVC4_",
      "authorship_tag": "ABX9TyMFlLngyNZOmh4vo0FEtrKw",
      "include_colab_link": true
    },
    "kernelspec": {
      "name": "python3",
      "display_name": "Python 3"
    },
    "language_info": {
      "name": "python"
    }
  },
  "cells": [
    {
      "cell_type": "markdown",
      "metadata": {
        "id": "view-in-github",
        "colab_type": "text"
      },
      "source": [
        "<a href=\"https://colab.research.google.com/github/sky309/Eclat_Market-Basket-analysis-Algorithms/blob/main/Mkbskt_Analysis_ECLAT.ipynb\" target=\"_parent\"><img src=\"https://colab.research.google.com/assets/colab-badge.svg\" alt=\"Open In Colab\"/></a>"
      ]
    },
    {
      "cell_type": "markdown",
      "metadata": {
        "id": "w2RwYHOJabYv"
      },
      "source": [
        "# Importing Pandas Library:"
      ]
    },
    {
      "cell_type": "code",
      "metadata": {
        "id": "U1czhvnl4JOr"
      },
      "source": [
        "import numpy as np\n",
        "import pandas as pd\n",
        "import matplotlib.pyplot as plt"
      ],
      "execution_count": null,
      "outputs": []
    },
    {
      "cell_type": "markdown",
      "metadata": {
        "id": "fpA_n8snah5y"
      },
      "source": [
        "#Installing pyECLAT:"
      ]
    },
    {
      "cell_type": "code",
      "metadata": {
        "colab": {
          "base_uri": "https://localhost:8080/"
        },
        "id": "eT8Amzv-50oC",
        "outputId": "0627ac28-a41b-4241-f6ae-977da73bc2b1"
      },
      "source": [
        "!pip install pyECLAT"
      ],
      "execution_count": 16,
      "outputs": [
        {
          "output_type": "stream",
          "name": "stdout",
          "text": [
            "Requirement already satisfied: pyECLAT in /usr/local/lib/python3.7/dist-packages (1.0.2)\n",
            "Requirement already satisfied: numpy>=1.17.4 in /usr/local/lib/python3.7/dist-packages (from pyECLAT) (1.19.5)\n",
            "Requirement already satisfied: pandas>=0.25.3 in /usr/local/lib/python3.7/dist-packages (from pyECLAT) (1.1.5)\n",
            "Requirement already satisfied: tqdm>=4.41.1 in /usr/local/lib/python3.7/dist-packages (from pyECLAT) (4.62.3)\n",
            "Requirement already satisfied: pytz>=2017.2 in /usr/local/lib/python3.7/dist-packages (from pandas>=0.25.3->pyECLAT) (2018.9)\n",
            "Requirement already satisfied: python-dateutil>=2.7.3 in /usr/local/lib/python3.7/dist-packages (from pandas>=0.25.3->pyECLAT) (2.8.2)\n",
            "Requirement already satisfied: six>=1.5 in /usr/local/lib/python3.7/dist-packages (from python-dateutil>=2.7.3->pandas>=0.25.3->pyECLAT) (1.15.0)\n"
          ]
        }
      ]
    },
    {
      "cell_type": "markdown",
      "metadata": {
        "id": "DEgOuR7Jam9W"
      },
      "source": [
        "# Reading the dataset:"
      ]
    },
    {
      "cell_type": "code",
      "metadata": {
        "id": "SY64gMIn8usx"
      },
      "source": [
        "file= '/content/drive/MyDrive/Skill/Data Science/Pantech/Day24- Market Basket Analysis-ECLAT/24_MarketBasketAnalysisusingECLAT.zip (Unzipped Files)/24_MarketBasketAnalysisusingECLAT/dataset1.csv'"
      ],
      "execution_count": null,
      "outputs": []
    },
    {
      "cell_type": "code",
      "metadata": {
        "id": "Y_RTcxx28_mM"
      },
      "source": [
        "dataset=pd.read_csv(file, header= None)"
      ],
      "execution_count": 25,
      "outputs": []
    },
    {
      "cell_type": "code",
      "metadata": {
        "colab": {
          "base_uri": "https://localhost:8080/"
        },
        "id": "2TVAzP_r9Ds4",
        "outputId": "a8d1ddc0-5271-4479-fdcf-5a038e569c13"
      },
      "source": [
        "print(dataset.shape)\n",
        "print(dataset.head())"
      ],
      "execution_count": 26,
      "outputs": [
        {
          "output_type": "stream",
          "name": "stdout",
          "text": [
            "(7501, 20)\n",
            "              0          1           2   ...               17       18         19\n",
            "0         shrimp    almonds     avocado  ...  frozen smoothie  spinach  olive oil\n",
            "1        burgers  meatballs        eggs  ...              NaN      NaN        NaN\n",
            "2        chutney        NaN         NaN  ...              NaN      NaN        NaN\n",
            "3         turkey    avocado         NaN  ...              NaN      NaN        NaN\n",
            "4  mineral water       milk  energy bar  ...              NaN      NaN        NaN\n",
            "\n",
            "[5 rows x 20 columns]\n"
          ]
        }
      ]
    },
    {
      "cell_type": "markdown",
      "metadata": {
        "id": "ZWWQnzofaxIp"
      },
      "source": [
        "# Importing ECLAT Library:"
      ]
    },
    {
      "cell_type": "code",
      "metadata": {
        "id": "HmmXqqcHRIW4"
      },
      "source": [
        "from pyECLAT import ECLAT"
      ],
      "execution_count": 21,
      "outputs": []
    },
    {
      "cell_type": "code",
      "metadata": {
        "colab": {
          "base_uri": "https://localhost:8080/"
        },
        "id": "PzDT6Y3ITyql",
        "outputId": "76215a89-2c0d-4d8a-9b76-263b2ce179fa"
      },
      "source": [
        "eclat_instance= ECLAT(data=dataset, verbose=True)"
      ],
      "execution_count": 27,
      "outputs": [
        {
          "output_type": "stream",
          "name": "stderr",
          "text": [
            "100%|██████████| 120/120 [00:01<00:00, 79.50it/s]\n",
            "100%|██████████| 120/120 [00:00<00:00, 2323.97it/s]\n",
            "100%|██████████| 120/120 [00:00<00:00, 2559.95it/s]\n"
          ]
        }
      ]
    },
    {
      "cell_type": "markdown",
      "metadata": {
        "id": "f-ZyThLIa4fp"
      },
      "source": [
        "# Final Support values as result:"
      ]
    },
    {
      "cell_type": "code",
      "metadata": {
        "colab": {
          "base_uri": "https://localhost:8080/"
        },
        "id": "CvGDz-1eS1UX",
        "outputId": "0ea4a069-e867-4996-b1d7-ed202896c4b6"
      },
      "source": [
        "result= eclat_instance.support(min_support= None)\n",
        "result"
      ],
      "execution_count": 28,
      "outputs": [
        {
          "output_type": "execute_result",
          "data": {
            "text/plain": [
              "{' asparagus': 0.0001333155579256099,\n",
              " 'almonds': 0.020397280362618318,\n",
              " 'antioxydant juice': 0.008932142381015865,\n",
              " 'asparagus': 0.004666044527396347,\n",
              " 'avocado': 0.03332888948140248,\n",
              " 'babies food': 0.004532728969470737,\n",
              " 'bacon': 0.008665511265164644,\n",
              " 'barbecue sauce': 0.010798560191974404,\n",
              " 'black tea': 0.014264764698040262,\n",
              " 'blueberries': 0.009198773496867084,\n",
              " 'body spray': 0.011465137981602452,\n",
              " 'bramble': 0.0018664178109585388,\n",
              " 'brownies': 0.03372883615517931,\n",
              " 'bug spray': 0.008665511265164644,\n",
              " 'burger sauce': 0.005865884548726837,\n",
              " 'burgers': 0.0871883748833489,\n",
              " 'butter': 0.030129316091187842,\n",
              " 'cake': 0.08105585921877083,\n",
              " 'candy bars': 0.009732035728569524,\n",
              " 'carrots': 0.01533128916144514,\n",
              " 'cauliflower': 0.004799360085321957,\n",
              " 'cereals': 0.025729902679642713,\n",
              " 'champagne': 0.04679376083188908,\n",
              " 'chicken': 0.05999200106652446,\n",
              " 'chili': 0.0061325156645780565,\n",
              " 'chocolate': 0.1638448206905746,\n",
              " 'chocolate bread': 0.004266097853619517,\n",
              " 'chutney': 0.0041327822956939075,\n",
              " 'cider': 0.010531929076123183,\n",
              " 'clothes accessories': 0.008398880149313425,\n",
              " 'cookies': 0.08038928142914278,\n",
              " 'cooking oil': 0.0510598586855086,\n",
              " 'corn': 0.004799360085321957,\n",
              " 'cottage cheese': 0.03186241834422077,\n",
              " 'cream': 0.0009332089054792694,\n",
              " 'dessert wine': 0.004399413411545127,\n",
              " 'eggplant': 0.013198240234635382,\n",
              " 'eggs': 0.17970937208372217,\n",
              " 'energy bar': 0.027063058258898813,\n",
              " 'energy drink': 0.026663111585121985,\n",
              " 'escalope': 0.0793227569657379,\n",
              " 'extra dark chocolate': 0.011998400213304892,\n",
              " 'flax seed': 0.009065457938941474,\n",
              " 'french fries': 0.1709105452606319,\n",
              " 'french wine': 0.022530329289428077,\n",
              " 'fresh bread': 0.043060925209972005,\n",
              " 'fresh tuna': 0.022263698173576856,\n",
              " 'fromage blanc': 0.013598186908412212,\n",
              " 'frozen smoothie': 0.06332489001466471,\n",
              " 'frozen vegetables': 0.09532062391681109,\n",
              " 'gluten free bar': 0.006932409012131715,\n",
              " 'grated cheese': 0.0523930142647647,\n",
              " 'green beans': 0.008665511265164644,\n",
              " 'green grapes': 0.009065457938941474,\n",
              " 'green tea': 0.13211571790427942,\n",
              " 'ground beef': 0.09825356619117451,\n",
              " 'gums': 0.013464871350486601,\n",
              " 'ham': 0.026529796027196375,\n",
              " 'hand protein bar': 0.005199306759098787,\n",
              " 'herb & pepper': 0.04946007199040128,\n",
              " 'honey': 0.047460338621517134,\n",
              " 'hot dogs': 0.03239568057592321,\n",
              " 'ketchup': 0.004399413411545127,\n",
              " 'light cream': 0.01559792027729636,\n",
              " 'light mayo': 0.027196373816824423,\n",
              " 'low fat yogurt': 0.07652313024930009,\n",
              " 'magazines': 0.010931875749900012,\n",
              " 'mashed potato': 0.0041327822956939075,\n",
              " 'mayonnaise': 0.0061325156645780565,\n",
              " 'meatballs': 0.020930542594320756,\n",
              " 'melons': 0.011998400213304892,\n",
              " 'milk': 0.12958272230369283,\n",
              " 'mineral water': 0.23836821757099053,\n",
              " 'mint': 0.0174643380882549,\n",
              " 'mint green tea': 0.005599253432875617,\n",
              " 'muffins': 0.024130115984535395,\n",
              " 'mushroom cream sauce': 0.019064124783362217,\n",
              " 'napkins': 0.0006665777896280496,\n",
              " 'nonfat milk': 0.010398613518197574,\n",
              " 'oatmeal': 0.004399413411545127,\n",
              " 'oil': 0.023063591521130515,\n",
              " 'olive oil': 0.0658578856152513,\n",
              " 'pancakes': 0.09505399280095987,\n",
              " 'parmesan cheese': 0.01986401813091588,\n",
              " 'pasta': 0.01573123583522197,\n",
              " 'pepper': 0.026529796027196375,\n",
              " 'pet food': 0.006532462338354886,\n",
              " 'pickles': 0.005999200106652446,\n",
              " 'protein bar': 0.01853086255165978,\n",
              " 'red wine': 0.028129582722303693,\n",
              " 'rice': 0.018797493667511,\n",
              " 'salad': 0.004932675643247567,\n",
              " 'salmon': 0.04252766297826956,\n",
              " 'salt': 0.009198773496867084,\n",
              " 'sandwich': 0.004532728969470737,\n",
              " 'shallot': 0.007732302359685375,\n",
              " 'shampoo': 0.004932675643247567,\n",
              " 'shrimp': 0.07145713904812692,\n",
              " 'soda': 0.006265831222503666,\n",
              " 'soup': 0.05052659645380616,\n",
              " 'spaghetti': 0.17411011865084655,\n",
              " 'sparkling water': 0.006265831222503666,\n",
              " 'spinach': 0.007065724570057326,\n",
              " 'strawberries': 0.021330489268097587,\n",
              " 'strong cheese': 0.007732302359685375,\n",
              " 'tea': 0.0038661511798426876,\n",
              " 'tomato juice': 0.030395947207039063,\n",
              " 'tomato sauce': 0.014131449140114652,\n",
              " 'tomatoes': 0.06839088121583789,\n",
              " 'toothpaste': 0.008132249033462205,\n",
              " 'turkey': 0.06252499666711105,\n",
              " 'vegetables mix': 0.025729902679642713,\n",
              " 'water spray': 0.0003999466737768298,\n",
              " 'white wine': 0.01653112918277563,\n",
              " 'whole weat flour': 0.009332089054792695,\n",
              " 'whole wheat pasta': 0.029462738301559793,\n",
              " 'whole wheat rice': 0.058525529929342755,\n",
              " 'yams': 0.011465137981602452,\n",
              " 'yogurt cake': 0.027329689374750034,\n",
              " 'zucchini': 0.009465404612718305}"
            ]
          },
          "metadata": {},
          "execution_count": 28
        }
      ]
    }
  ]
}